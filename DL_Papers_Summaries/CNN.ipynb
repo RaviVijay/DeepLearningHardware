{
 "cells": [
  {
   "cell_type": "markdown",
   "metadata": {
    "heading_collapsed": true
   },
   "source": [
    "## Import"
   ]
  },
  {
   "cell_type": "markdown",
   "metadata": {
    "hidden": true
   },
   "source": [
    "Example of journalling along with the codebase."
   ]
  },
  {
   "cell_type": "code",
   "execution_count": 2,
   "metadata": {
    "collapsed": true,
    "hidden": true
   },
   "outputs": [],
   "source": [
    "import numpy as np\n",
    "import pandas as pd"
   ]
  },
  {
   "cell_type": "code",
   "execution_count": null,
   "metadata": {
    "collapsed": true,
    "hidden": true
   },
   "outputs": [],
   "source": [
    "#display(data.describe())\n"
   ]
  },
  {
   "cell_type": "code",
   "execution_count": null,
   "metadata": {
    "collapsed": true,
    "hidden": true
   },
   "outputs": [],
   "source": [
    "#print(\"Number of missing values\", data.isnull().sum().sum())\n"
   ]
  },
  {
   "cell_type": "markdown",
   "metadata": {},
   "source": [
    "## CNN Overview"
   ]
  },
  {
   "cell_type": "markdown",
   "metadata": {},
   "source": [
    "### Setting the stage"
   ]
  },
  {
   "attachments": {},
   "cell_type": "markdown",
   "metadata": {},
   "source": [
    "<img src=\"images/CNN one layer.png\" alt=\"\" style=\"width: 50%\"/>\n",
    "Taxonomy: \n",
    "\n",
    "iC => No. of Input Maps/Channels(R,G,B = 3 for first layer which are input image)\n",
    "iW => Width of each input Map\n",
    "iH => Height of each input Map\n",
    "Input Dimensions => iC X iW X iH\n",
    "\n",
    "oC => No. of Output Maps/Channels\n",
    "oW => Width of each output Map\n",
    "oH => Height of each output Map\n",
    "Output Dimensions => oC X oW X oH\n",
    "\n",
    "kW => Width of Kernels/Filters\n",
    "kH => Hight of Kernel/Filters\n",
    "Number of Kernels => oC\n",
    "Each Kernel's Dimensions => iC X kW X kH\n",
    "\n",
    "Weight => Each Element of Kernel \n",
    "\n",
    "Algorithm per Layer is in below Cell"
   ]
  },
  {
   "cell_type": "raw",
   "metadata": {},
   "source": [
    "#Algorithm of Computation Per Layer :\n",
    "#    Per ith Kernel: \n",
    "#        Per jth Input Map:\n",
    "#            Convolution is done with kernel's j X kW X kH dimension's weights \n",
    "#        Pixelwise addition of outputs from convolution of each input map\n",
    "#        ith 2-dimensional output map achieved"
   ]
  },
  {
   "cell_type": "code",
   "execution_count": 36,
   "metadata": {
    "collapsed": true
   },
   "outputs": [],
   "source": [
    "iW = 0; iH = 0 ; iC = 0 \n",
    "oW = 0; oH = 0 ; oC = 0\n",
    "kW = 0; kH = 0 "
   ]
  },
  {
   "cell_type": "markdown",
   "metadata": {},
   "source": [
    "Downsampling/MaxPooling: \n",
    "\n",
    "Max operation over PXP window and produces single output\n",
    "Stride: Maxpooling is done by striding(sliding/moving) by s on right and bottom to get the new window to Maxpool"
   ]
  },
  {
   "cell_type": "code",
   "execution_count": 39,
   "metadata": {
    "collapsed": true
   },
   "outputs": [],
   "source": [
    "mIW = 0; mIH = 0; #input width,height for maxpool layer\n",
    "# mOW, mOH => Output width"
   ]
  },
  {
   "cell_type": "code",
   "execution_count": 40,
   "metadata": {
    "collapsed": true
   },
   "outputs": [],
   "source": [
    "maxpool_window_width = 2;\n",
    "stride = 2;\n",
    "mOW = mIW/pow(stride,2)"
   ]
  },
  {
   "cell_type": "markdown",
   "metadata": {},
   "source": [
    "Non Linearity/Activation Function"
   ]
  },
  {
   "cell_type": "markdown",
   "metadata": {},
   "source": [
    "Softmax Layer/FC Layer/ 1X1 Convolution\n",
    "1. Convert all inputs to a single vector.\n",
    "2. Apply a matrix of weights to produce output vector"
   ]
  },
  {
   "cell_type": "markdown",
   "metadata": {},
   "source": [
    "Implementation Notes : \n",
    "\n",
    "FC layers are more bandwidth dependant. Need faster memory and compression techniques to handle these\n",
    "\n",
    "Computational challenge is less of a challenge"
   ]
  },
  {
   "cell_type": "markdown",
   "metadata": {},
   "source": [
    "### Charecteristics of CNN models:"
   ]
  },
  {
   "cell_type": "markdown",
   "metadata": {},
   "source": [
    "3 types of layers when seen thro' computational eyes:\n",
    "1. Conventional : As seen in first example. Alexnet + VGG used these only\n",
    "2. Inception Modules : Has different sized kernels for same layer\n",
    "3. Residual Modules : Complicated multiple layer jumping and math with large number of input maps"
   ]
  },
  {
   "cell_type": "code",
   "execution_count": null,
   "metadata": {
    "collapsed": true
   },
   "outputs": [],
   "source": []
  }
 ],
 "metadata": {
  "anaconda-cloud": {},
  "kernelspec": {
   "display_name": "Python [conda root]",
   "language": "python",
   "name": "conda-root-py"
  },
  "language_info": {
   "codemirror_mode": {
    "name": "ipython",
    "version": 2
   },
   "file_extension": ".py",
   "mimetype": "text/x-python",
   "name": "python",
   "nbconvert_exporter": "python",
   "pygments_lexer": "ipython2",
   "version": "2.7.13"
  }
 },
 "nbformat": 4,
 "nbformat_minor": 2
}
