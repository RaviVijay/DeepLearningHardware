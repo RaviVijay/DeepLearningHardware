{
 "cells": [
  {
   "cell_type": "markdown",
   "metadata": {},
   "source": [
    "# Snowflake : Model Agnostic Acc. for DCNN https://arxiv.org/pdf/1708.02579.pdf"
   ]
  },
  {
   "cell_type": "markdown",
   "metadata": {
    "heading_collapsed": true
   },
   "source": [
    "## Import"
   ]
  },
  {
   "cell_type": "markdown",
   "metadata": {
    "hidden": true
   },
   "source": [
    "Example of journalling along with the codebase."
   ]
  },
  {
   "cell_type": "code",
   "execution_count": 57,
   "metadata": {
    "collapsed": true,
    "hidden": true
   },
   "outputs": [],
   "source": [
    "import numpy as np\n",
    "import pandas as pd\n",
    "import math"
   ]
  },
  {
   "cell_type": "code",
   "execution_count": 29,
   "metadata": {
    "hidden": true
   },
   "outputs": [],
   "source": [
    "#display(data.describe())\n",
    "from IPython.display import display # Allows the use of display() for DataFrames\n"
   ]
  },
  {
   "cell_type": "code",
   "execution_count": 28,
   "metadata": {
    "collapsed": true,
    "hidden": true
   },
   "outputs": [],
   "source": [
    "#print(\"Number of missing values\", data.isnull().sum().sum())\n"
   ]
  },
  {
   "cell_type": "markdown",
   "metadata": {
    "heading_collapsed": true
   },
   "source": [
    "## Abstract"
   ]
  },
  {
   "cell_type": "markdown",
   "metadata": {
    "hidden": true
   },
   "source": [
    "Hardware used : Xilinx Zynq XC7Z045 SoC. \n",
    "\n",
    "Claims:\n",
    "\n",
    "1) Only system capable of achieve 91% efficiency across different modern Arch\n",
    "\n",
    "2) First system with GoogleNet and ResNet as benchmark"
   ]
  },
  {
   "cell_type": "code",
   "execution_count": 7,
   "metadata": {
    "collapsed": true,
    "hidden": true
   },
   "outputs": [],
   "source": [
    "theor_peak_throput = 128 * pow(10,9) #ops/s"
   ]
  },
  {
   "cell_type": "code",
   "execution_count": 11,
   "metadata": {
    "collapsed": true,
    "hidden": true
   },
   "outputs": [],
   "source": [
    "empirical_peak_throput = {}"
   ]
  },
  {
   "cell_type": "code",
   "execution_count": 12,
   "metadata": {
    "hidden": true
   },
   "outputs": [],
   "source": [
    "empirical_peak_throput[\"Alex\"] = 120 * pow(10,9) #ops/s on Alexnet = 100Frames/second"
   ]
  },
  {
   "cell_type": "code",
   "execution_count": 14,
   "metadata": {
    "collapsed": true,
    "hidden": true
   },
   "outputs": [],
   "source": [
    "empirical_peak_throput[\"GoogleNet\"] = 116 * pow(10,9) #ops/s on Googlenet = 36 Frames/second"
   ]
  },
  {
   "cell_type": "code",
   "execution_count": 15,
   "metadata": {
    "collapsed": true,
    "hidden": true
   },
   "outputs": [],
   "source": [
    "empirical_peak_throput[\"ResNet50\"] = 122 * pow(10,9) #ops/s on ResNet50 = 17 Frames/second"
   ]
  },
  {
   "cell_type": "markdown",
   "metadata": {
    "heading_collapsed": true
   },
   "source": [
    "## Introduction"
   ]
  },
  {
   "cell_type": "markdown",
   "metadata": {
    "hidden": true
   },
   "source": [
    "2 main challenges for CNN accelerators are : computation and bandwidth. This paper deals primarily with computation. I would add area as another vector. "
   ]
  },
  {
   "cell_type": "markdown",
   "metadata": {
    "hidden": true
   },
   "source": [
    "Measures of Success:\n",
    "\n",
    "1. Computational efficiency = measured performance/peak performance\n",
    "2. Computational efficiency = Actual Frames Processed(per sec)/Theoritical Max. that can be processed(per sec)"
   ]
  },
  {
   "cell_type": "markdown",
   "metadata": {
    "hidden": true
   },
   "source": [
    "Opportunities\n",
    "\n",
    "Computation Complexity is high but there is inherent parallelism"
   ]
  },
  {
   "cell_type": "markdown",
   "metadata": {
    "hidden": true
   },
   "source": [
    "Challenges: \n",
    "\n",
    "Highly varied data access patterns of CNNs => an accelerator \n",
    "1. designed for one CNN architecture will perform poorly in another\n",
    "2. performs well for some layers but poorly for other"
   ]
  },
  {
   "cell_type": "code",
   "execution_count": null,
   "metadata": {
    "collapsed": true,
    "hidden": true
   },
   "outputs": [],
   "source": []
  },
  {
   "cell_type": "markdown",
   "metadata": {
    "hidden": true
   },
   "source": [
    "Additional Introduction Notes: \n",
    "\n",
    "This paper looks at convolitional + max pool + nonlinear layers. Not at FC layers. \n",
    "FC layer's constraints are more in bandwidth than computation. They need faster memory and compression techniques"
   ]
  },
  {
   "cell_type": "markdown",
   "metadata": {
    "heading_collapsed": true
   },
   "source": [
    "## Related Work"
   ]
  },
  {
   "cell_type": "markdown",
   "metadata": {
    "hidden": true
   },
   "source": [
    "Eyeriss : \n",
    "\n",
    "12 X 14 grid of PEs for CNN\n",
    "Data Fed from 108KB Scratchpad buffer\n",
    "Performance figures in 2 contexts:\n",
    "1. Including DRAM load latency\n",
    "2. Excluding DRAM load latency - Assuming that DRAM latency is easy to optimize"
   ]
  },
  {
   "cell_type": "code",
   "execution_count": 21,
   "metadata": {
    "hidden": true
   },
   "outputs": [],
   "source": [
    "Eyeriss = {}\n",
    "Eyeriss[\"rowsize\"] = 12\n",
    "Eyeriss[\"colsize\"] = 14\n",
    "Eyeriss[\"scratchpad\"] = 108 * pow(2,10)\n",
    "Eyeriss[\"comp_eff_accounting_dram_lat\"] = 68.8 # percent\n",
    "Eyeriss[\"comp_eff_notaccounting_dram_lat\"] = 76.7 # percent"
   ]
  },
  {
   "cell_type": "markdown",
   "metadata": {
    "hidden": true
   },
   "source": [
    "DianNao:\n",
    "\n",
    "Difficulties with DianNao:\n",
    "1. Benchmarks with selected layers instead of entire n/ws\n"
   ]
  },
  {
   "cell_type": "code",
   "execution_count": 23,
   "metadata": {
    "collapsed": true,
    "hidden": true
   },
   "outputs": [],
   "source": [
    "DianNao = {}\n",
    "DianNao[\"comp_eff_layer_normal\"] = 84.8\n",
    "DianNao[\"comp_eff_layer_peak\"] = 90.8"
   ]
  },
  {
   "cell_type": "markdown",
   "metadata": {
    "hidden": true
   },
   "source": [
    "ShiDianNao:\n",
    "\n",
    "Improved DianNao but below problems persist:\n",
    "1. With small CNNs layers with tens of kilobytes of weights and maps data\n",
    "3. Tens to hundreds of million operations per frame"
   ]
  },
  {
   "cell_type": "markdown",
   "metadata": {
    "hidden": true
   },
   "source": [
    "Snowflake does:\n",
    "1. N/Ws with several megabytes of weights and maps data\n",
    "2. Billions of operations per frame"
   ]
  },
  {
   "cell_type": "code",
   "execution_count": 26,
   "metadata": {
    "hidden": true
   },
   "outputs": [],
   "source": [
    "Caffeine = {}\n",
    "SongYaoetal = {}\n",
    "Caffeine[\"comp_eff\"] = 73.3\n",
    "SongYaoetal[\"comp_eff\"] = 80.3"
   ]
  },
  {
   "cell_type": "markdown",
   "metadata": {
    "heading_collapsed": true
   },
   "source": [
    "## CNN Overview"
   ]
  },
  {
   "cell_type": "markdown",
   "metadata": {
    "heading_collapsed": true,
    "hidden": true
   },
   "source": [
    "### Setting the stage"
   ]
  },
  {
   "cell_type": "markdown",
   "metadata": {
    "hidden": true
   },
   "source": [
    "<img src=\"images/CNN one layer.png\" alt=\"\" style=\"width: 50%\"/>\n",
    "\n",
    "Taxonomy: \n",
    "\n",
    "iC => No. of Input Maps/Channels(R,G,B = 3 for first layer which are input image)\n",
    "iW => Width of each input Map\n",
    "iH => Height of each input Map\n",
    "Input Dimensions => iC X iW X iH\n",
    "\n",
    "oC => No. of Output Maps/Channels\n",
    "oW => Width of each output Map\n",
    "oH => Height of each output Map\n",
    "Output Dimensions => oC X oW X oH\n",
    "\n",
    "kW => Width of Kernels/Filters\n",
    "kH => Hight of Kernel/Filters\n",
    "Number of Kernels => oC\n",
    "Each Kernel's Dimensions => iC X kW X kH\n",
    "\n",
    "Weight => Each Element of Kernel \n",
    "\n",
    "Algorithm per Layer is in below Cell"
   ]
  },
  {
   "cell_type": "raw",
   "metadata": {
    "hidden": true
   },
   "source": [
    "#Algorithm of Computation Per Layer :\n",
    "#    Per ith Kernel: \n",
    "#        Per jth Input Map:\n",
    "#            Convolution is done with kernel's j X kW X kH dimension's weights \n",
    "#        Pixelwise addition of outputs from convolution of each input map\n",
    "#        ith 2-dimensional output map achieved"
   ]
  },
  {
   "cell_type": "code",
   "execution_count": 36,
   "metadata": {
    "collapsed": true,
    "hidden": true
   },
   "outputs": [],
   "source": [
    "iW = 0; iH = 0 ; iC = 0 \n",
    "oW = 0; oH = 0 ; oC = 0\n",
    "kW = 0; kH = 0 "
   ]
  },
  {
   "cell_type": "markdown",
   "metadata": {
    "hidden": true
   },
   "source": [
    "Downsampling/MaxPooling: \n",
    "\n",
    "Max operation over PXP window and produces single output\n",
    "Stride: Maxpooling is done by striding(sliding/moving) by s on right and bottom to get the new window to Maxpool"
   ]
  },
  {
   "cell_type": "code",
   "execution_count": 39,
   "metadata": {
    "collapsed": true,
    "hidden": true
   },
   "outputs": [],
   "source": [
    "mIW = 0; mIH = 0; #input width,height for maxpool layer\n",
    "# mOW, mOH => Output width"
   ]
  },
  {
   "cell_type": "code",
   "execution_count": 40,
   "metadata": {
    "hidden": true
   },
   "outputs": [],
   "source": [
    "maxpool_window_width = 2;\n",
    "stride = 2;\n",
    "mOW = mIW/pow(stride,2)"
   ]
  },
  {
   "cell_type": "markdown",
   "metadata": {
    "hidden": true
   },
   "source": [
    "Non Linearity/Activation Function"
   ]
  },
  {
   "cell_type": "markdown",
   "metadata": {
    "hidden": true
   },
   "source": [
    "Softmax Layer/FC Layer/ 1X1 Convolution\n",
    "1. Convert all inputs to a single vector.\n",
    "2. Apply a matrix of weights to produce output vector"
   ]
  },
  {
   "cell_type": "markdown",
   "metadata": {
    "hidden": true
   },
   "source": [
    "Implementation Notes : \n",
    "\n",
    "FC layers are more bandwidth dependant. Need faster memory and compression techniques to handle these\n",
    "\n",
    "Computational challenge is less of a challenge"
   ]
  },
  {
   "cell_type": "markdown",
   "metadata": {
    "heading_collapsed": true,
    "hidden": true
   },
   "source": [
    "### Charecteristics of CNN models:"
   ]
  },
  {
   "cell_type": "markdown",
   "metadata": {
    "hidden": true
   },
   "source": [
    "3 types of layers when seen thro' computational eyes:\n",
    "1. Conventional : As seen in first example. Alexnet + VGG used these only\n",
    "2. Inception Modules : Has different sized kernels for same layer\n",
    "3. Residual Modules : Complicated multiple layer jumping and math with large number of input maps"
   ]
  },
  {
   "cell_type": "markdown",
   "metadata": {
    "heading_collapsed": true
   },
   "source": [
    "## Data Organization"
   ]
  },
  {
   "cell_type": "markdown",
   "metadata": {
    "hidden": true
   },
   "source": [
    "Primary latency hiding technique : Organize data in form of traces. \n",
    "\n",
    "Trace is a contiguous region in memory that an instruction performs an operation on. \n",
    "\n",
    "Motivation is to hide latencies of non-compute instructions behind compute cycles. By hiding latencies of branches, true dependencies and memory load and stores helps in achieving peak performance. \n",
    "\n",
    "Nature of inputs is 3 dimensional and hence gives 3 ways to iterate on the data. \n",
    "\n",
    "For kernel, width and height are small  Range <11 But the depth is very high Range 32-2048 (Resnet)\n",
    "\n",
    "Data organized in depth-minor format results in longest trace.\n"
   ]
  },
  {
   "cell_type": "code",
   "execution_count": 45,
   "metadata": {
    "hidden": true
   },
   "outputs": [
    {
     "data": {
      "text/plain": [
       "768"
      ]
     },
     "execution_count": 45,
     "metadata": {},
     "output_type": "execute_result"
    }
   ],
   "source": [
    "iC = 256; kW =3 ; kH = 3 \n",
    "trace_length = iC *kW\n",
    "trace_length"
   ]
  },
  {
   "cell_type": "markdown",
   "metadata": {
    "hidden": true
   },
   "source": [
    "if trace length is 768 and a single PE is doing this math for 768 cycles. Once PEs are assigned such traces, they are busy for very long time and controller can do other operations in this period of time.\n",
    "\n",
    "Instructions operating on a trace are called vector instructions.\n"
   ]
  },
  {
   "cell_type": "markdown",
   "metadata": {},
   "source": [
    "## MicroArchitecture"
   ]
  },
  {
   "cell_type": "markdown",
   "metadata": {},
   "source": [
    "Primarily accelerating MAC. Other operartions : ReLU, maxpooling.\n",
    "Sigmoid and hyperbolic tangent are added as piece-wise linear models"
   ]
  },
  {
   "cell_type": "markdown",
   "metadata": {
    "heading_collapsed": true
   },
   "source": [
    "### Control"
   ]
  },
  {
   "cell_type": "markdown",
   "metadata": {
    "hidden": true
   },
   "source": [
    "Similar to five stage RISC"
   ]
  },
  {
   "cell_type": "markdown",
   "metadata": {
    "heading_collapsed": true,
    "hidden": true
   },
   "source": [
    "##### FETCH"
   ]
  },
  {
   "cell_type": "markdown",
   "metadata": {
    "hidden": true
   },
   "source": [
    "No loop unrolling used as Snowflake is designed to be good at hiding latencies. Longest branch was to an instruction within 512 instructions from branch. "
   ]
  },
  {
   "cell_type": "code",
   "execution_count": 50,
   "metadata": {
    "collapsed": true,
    "hidden": true
   },
   "outputs": [],
   "source": [
    "instruction_width = 32"
   ]
  },
  {
   "cell_type": "code",
   "execution_count": 53,
   "metadata": {
    "collapsed": true,
    "hidden": true
   },
   "outputs": [],
   "source": [
    "min_cache_size = 2 * pow(2,10) #Why? Understand theory or ask Aram"
   ]
  },
  {
   "cell_type": "code",
   "execution_count": 54,
   "metadata": {
    "hidden": true
   },
   "outputs": [],
   "source": [
    "cache_size = 2*min_cache_size #Double buffered so as to overlap latency of fetching next instruction stream"
   ]
  },
  {
   "cell_type": "markdown",
   "metadata": {
    "hidden": true
   },
   "source": [
    "#### Decode:"
   ]
  },
  {
   "cell_type": "markdown",
   "metadata": {
    "hidden": true
   },
   "source": [
    "Checks for data dependancies and stalls for fetch of further instructions until dependant instruction commits "
   ]
  },
  {
   "cell_type": "markdown",
   "metadata": {
    "hidden": true
   },
   "source": [
    "#### Instruction Despatch"
   ]
  },
  {
   "cell_type": "markdown",
   "metadata": {
    "hidden": true
   },
   "source": [
    "1. Reads source operands from RF.\n",
    "2. Keeps track of number of loads issued to on-chip buffers of Compute core. Important to prevent vector instruction from reading data from buffers while load is pending. Otherwise read-after-write hazards will happen\n"
   ]
  },
  {
   "cell_type": "markdown",
   "metadata": {
    "hidden": true
   },
   "source": [
    "#### ALU"
   ]
  },
  {
   "cell_type": "markdown",
   "metadata": {
    "hidden": true
   },
   "source": [
    "1. Only for bookkeeping and kept simple supporting a subset of operations of other ALU\n",
    "2. Eg. : Adder is used to increment address of compute core's bufferss from where next trace is to be read"
   ]
  },
  {
   "cell_type": "markdown",
   "metadata": {
    "hidden": true
   },
   "source": [
    "#### RF"
   ]
  },
  {
   "cell_type": "markdown",
   "metadata": {
    "hidden": true
   },
   "source": [
    "Dual ported 32 x 32-bit registers\n",
    "Upto 2 source operands are read from RF in dispatch stage"
   ]
  },
  {
   "cell_type": "code",
   "execution_count": 63,
   "metadata": {
    "hidden": true
   },
   "outputs": [],
   "source": [
    "control_RF ={}\n",
    "control_RF[\"ports\"] = 2\n",
    "control_RF[\"wordlength\"] = 32\n",
    "control_RF[\"depth\"] =32\n",
    "control_RF[\"address_bit_width\"] = math.log(control_RF[\"depth\"],2)\n"
   ]
  },
  {
   "cell_type": "code",
   "execution_count": 64,
   "metadata": {
    "hidden": true
   },
   "outputs": [
    {
     "data": {
      "text/plain": [
       "5.0"
      ]
     },
     "execution_count": 64,
     "metadata": {},
     "output_type": "execute_result"
    }
   ],
   "source": [
    "control_RF[\"address_bit_width\"]"
   ]
  },
  {
   "cell_type": "markdown",
   "metadata": {},
   "source": [
    "### Compute Core"
   ]
  },
  {
   "cell_type": "markdown",
   "metadata": {},
   "source": [
    "Contains multiple compute clusters and has hierarchical structure. \n",
    "\n",
    "<img src=\"images/SFComputeCore.png\" alt=\"\" style=\"width: 70%\"/>\n"
   ]
  },
  {
   "cell_type": "markdown",
   "metadata": {
    "heading_collapsed": true
   },
   "source": [
    "#### Compute core Math Model"
   ]
  },
  {
   "cell_type": "code",
   "execution_count": 67,
   "metadata": {
    "hidden": true
   },
   "outputs": [],
   "source": [
    "vMAC= {}\n",
    "vMAC[\"cnt_MAC\"] = 16"
   ]
  },
  {
   "cell_type": "code",
   "execution_count": 68,
   "metadata": {
    "collapsed": true,
    "hidden": true
   },
   "outputs": [],
   "source": [
    "cunit = {}\n",
    "cunit[\"cnt_vMAC\"] = 4\n",
    "cunit[\"cnt_vMAX\"] = 1 \n",
    "cunit[\"cnt_tracedecode\"] = 1\n",
    "cunit[\"maps_buffer\"] =1"
   ]
  },
  {
   "cell_type": "code",
   "execution_count": 70,
   "metadata": {
    "hidden": true
   },
   "outputs": [],
   "source": [
    "compute_cluster = {}\n",
    "compute_cluster[\"cnt_cunits\"] = 4"
   ]
  },
  {
   "cell_type": "markdown",
   "metadata": {
    "heading_collapsed": true
   },
   "source": [
    "#### Trace Decoders"
   ]
  },
  {
   "cell_type": "markdown",
   "metadata": {
    "heading_collapsed": true,
    "hidden": true
   },
   "source": [
    "##### Trace Decoders"
   ]
  },
  {
   "cell_type": "markdown",
   "metadata": {
    "hidden": true
   },
   "source": [
    "Vector Instruction Path\n",
    "\n",
    "Control Core -> FIFO queue -> Trace Decoder\n",
    "\n",
    "Instruction Contents : \n",
    "1. Start Address of trace in maps buffer\n",
    "2. Length of trace\n",
    "3. ID of consumer trace decoder\n",
    "\n",
    "Once instruction is recieved by a decoder:\n",
    "1. Decoder increments start address\n",
    "2. Requests a line from Map Buffer. One line per cycle till end of length of trace\n",
    "3. After this is done, fetch next trace instruction. Control core takes care of this instruction's availability"
   ]
  },
  {
   "cell_type": "markdown",
   "metadata": {
    "heading_collapsed": true,
    "hidden": true
   },
   "source": [
    "##### MAC Trace Decoder"
   ]
  },
  {
   "cell_type": "markdown",
   "metadata": {
    "hidden": true
   },
   "source": [
    "1. Fetch cache lines from map buffer and sends to vMACs\n",
    "2. Provides address to index into weight buffers inside each vMAC\n",
    "3. Responsible for ordering vMACs to output results accumulated in thier accum. register. Signal is sent along with last address of final trace of computation"
   ]
  },
  {
   "cell_type": "markdown",
   "metadata": {
    "heading_collapsed": true,
    "hidden": true
   },
   "source": [
    "##### MAX trace Decoder"
   ]
  },
  {
   "cell_type": "markdown",
   "metadata": {
    "hidden": true
   },
   "source": [
    "1. Fetch cache lines from map buffer and sends to vMACs\n",
    "2. Responsible for ordering vMAXs to output results. Signal is sent along with last address of final trace of computation"
   ]
  },
  {
   "cell_type": "markdown",
   "metadata": {
    "heading_collapsed": true,
    "hidden": true
   },
   "source": [
    "##### Trace Move Decoder"
   ]
  },
  {
   "cell_type": "markdown",
   "metadata": {
    "hidden": true
   },
   "source": [
    "1. Movement from  maps buffer of one CU to another CU (CU trace move). Destination should be in same cluster.\n",
    "2. store a trace to memory (memory trace move)\n",
    "\n",
    "Both functions above share the access to maps buffer"
   ]
  },
  {
   "cell_type": "markdown",
   "metadata": {
    "heading_collapsed": true,
    "hidden": true
   },
   "source": [
    "##### Strength due to this model"
   ]
  },
  {
   "cell_type": "markdown",
   "metadata": {
    "hidden": true
   },
   "source": [
    "All trace decoders continue processing their vector instructions while control core executes scalar instructions to prepare next set of vector instructions.\n",
    "\n",
    "Trace Decoders enable SF to execute & commit vector instructions OOO wrt scalar instructions.Correctness is guaranteed because scalar instruction never reads data produced by vector instruction.  Due to this control core does'nt need speculative execution.\n"
   ]
  },
  {
   "cell_type": "markdown",
   "metadata": {},
   "source": [
    "#### MAC"
   ]
  },
  {
   "cell_type": "code",
   "execution_count": 72,
   "metadata": {
    "collapsed": true
   },
   "outputs": [],
   "source": [
    "operand_bit_width = 16\n",
    "accum_bit_width   = 32"
   ]
  },
  {
   "cell_type": "markdown",
   "metadata": {},
   "source": [
    "Second operand of Adder could be \n",
    "1. it's own output\n",
    "2. Partially Accumulated result\n",
    "3. Activation from previous layer"
   ]
  },
  {
   "cell_type": "markdown",
   "metadata": {},
   "source": [
    "<img src=\"images/vMac parallelism.png\" alt=\"\" style=\"width: 100%\"/>\n"
   ]
  },
  {
   "cell_type": "markdown",
   "metadata": {},
   "source": [
    "Coordinates in gray : Constant across Macs\n",
    "\n",
    "Coordinates in black : Varying across Macs"
   ]
  },
  {
   "cell_type": "code",
   "execution_count": null,
   "metadata": {
    "collapsed": true
   },
   "outputs": [],
   "source": []
  },
  {
   "cell_type": "markdown",
   "metadata": {},
   "source": [
    "## Dig Deeper"
   ]
  },
  {
   "cell_type": "markdown",
   "metadata": {},
   "source": [
    "1. Deep Compressed NN\n",
    "2. Residual Learning"
   ]
  },
  {
   "cell_type": "code",
   "execution_count": 55,
   "metadata": {},
   "outputs": [
    {
     "data": {
      "text/plain": [
       "u'/Users/rv939730/Learn/Hardware/Papers_Math_and_Summary'"
      ]
     },
     "execution_count": 55,
     "metadata": {},
     "output_type": "execute_result"
    }
   ],
   "source": [
    "%pwd"
   ]
  },
  {
   "cell_type": "code",
   "execution_count": null,
   "metadata": {
    "collapsed": true
   },
   "outputs": [],
   "source": []
  }
 ],
 "metadata": {
  "anaconda-cloud": {},
  "kernelspec": {
   "display_name": "Python [conda root]",
   "language": "python",
   "name": "conda-root-py"
  },
  "language_info": {
   "codemirror_mode": {
    "name": "ipython",
    "version": 2
   },
   "file_extension": ".py",
   "mimetype": "text/x-python",
   "name": "python",
   "nbconvert_exporter": "python",
   "pygments_lexer": "ipython2",
   "version": "2.7.13"
  }
 },
 "nbformat": 4,
 "nbformat_minor": 2
}
