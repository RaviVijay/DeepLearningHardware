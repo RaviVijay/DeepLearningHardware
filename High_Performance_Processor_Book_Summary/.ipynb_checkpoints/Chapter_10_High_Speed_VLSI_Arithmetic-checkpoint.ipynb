{
 "cells": [
  {
   "cell_type": "markdown",
   "metadata": {},
   "source": [
    "# High Speed Arithemetic Circuits"
   ]
  },
  {
   "cell_type": "markdown",
   "metadata": {},
   "source": [
    "## Imports"
   ]
  },
  {
   "cell_type": "code",
   "execution_count": 33,
   "metadata": {
    "collapsed": true
   },
   "outputs": [],
   "source": [
    "from IPython.display import Image \n",
    "from collections import OrderedDict"
   ]
  },
  {
   "cell_type": "code",
   "execution_count": null,
   "metadata": {
    "collapsed": true
   },
   "outputs": [],
   "source": []
  },
  {
   "cell_type": "markdown",
   "metadata": {
    "heading_collapsed": true
   },
   "source": [
    "## Constant Definitions"
   ]
  },
  {
   "cell_type": "code",
   "execution_count": 19,
   "metadata": {
    "collapsed": true,
    "hidden": true
   },
   "outputs": [],
   "source": [
    "nibble = 4\n",
    "byte = 8\n",
    "halfword = 16\n",
    "word = 8 "
   ]
  },
  {
   "cell_type": "markdown",
   "metadata": {},
   "source": [
    "## Unit Gate Delays"
   ]
  },
  {
   "cell_type": "code",
   "execution_count": 15,
   "metadata": {},
   "outputs": [],
   "source": [
    "#Static Cmos Gate Delays\n",
    "SC = {}\n",
    "SC[\"Not\"] = 1.0\n",
    "SC[\"Nand\"] = 1.0\n",
    "SC[\"Nor\"] = 1.0\n",
    "SC[\"Xor\"] = 1.0\n",
    "SC[\"And\"] = 1.0\n",
    "SC[\"Or\"]  = 1.0\n",
    "SC[\"Mux\"] = 1.0"
   ]
  },
  {
   "cell_type": "code",
   "execution_count": 38,
   "metadata": {
    "collapsed": true
   },
   "outputs": [],
   "source": [
    "class Generic(object):\n",
    "    \"A generic pyNet object that holds some common code\"\n",
    "    def __init__(self, attrs):\n",
    "        self.__attrs = attrs\n",
    "        self.__name   = self.get(\"name\")\n",
    "\n",
    "    def get(self, name, require=True):\n",
    "        ret = None\n",
    "        if name in self.__attrs:\n",
    "            ret = self.__attrs[name]\n",
    "        elif require:\n",
    "            raise Exception(name + \" not defined\")\n",
    "        return ret\n",
    "\n",
    "    name   = property(lambda self: self.__name)"
   ]
  },
  {
   "cell_type": "code",
   "execution_count": 39,
   "metadata": {},
   "outputs": [],
   "source": [
    "#from Generic import *\n",
    "\n",
    "class Pin(Generic):\n",
    "    \"Defines a Verilog Pin\"\n",
    "    def __init__(self, attrs):\n",
    "        Generic.__init__(self, attrs)\n",
    "\n",
    "        # attrs\n",
    "        self.__cell     = self.get(\"cell\")\n",
    "        # self.__portname = self.get(\"portname\", False)\n",
    "        # self.__netname  = self.get(\"netname\", False)\n",
    "\n",
    "        # to be linked\n",
    "        self.__net  = None\n",
    "        # self.__port = None\n",
    "\n",
    "    cell = property(lambda self: self.__cell)\n",
    "    # port = property(lambda self: self.__port)\n",
    "    net  = property(lambda self: self.__net)\n",
    "    # portname = property(lambda self: self.__portname)\n",
    "    # netname = property(lambda self: self.__netname)\n",
    "\n",
    "    #link!\n",
    "    def connect(self, net, port):\n",
    "        self.connectPort(port)\n",
    "        self.connectNet(net)\n",
    "\n",
    "    def connectPort(self, port):\n",
    "        self.__port     = port\n",
    "        self.__portname = port.name\n",
    "\n",
    "    def connectNet(self, net):\n",
    "        self.__net     = net\n",
    "        self.__netname = net.name"
   ]
  },
  {
   "cell_type": "code",
   "execution_count": null,
   "metadata": {
    "collapsed": true
   },
   "outputs": [],
   "source": [
    "class stdcell(Generic):\n",
    "    \"Defines a standard cell\"\n",
    "    def __init__(self,attrs):\n",
    "        Generic.__init__(self,attrs)\n",
    "        self.__pins = OrderedDict"
   ]
  },
  {
   "cell_type": "code",
   "execution_count": 16,
   "metadata": {
    "collapsed": true
   },
   "outputs": [],
   "source": [
    "# Pass Transistor \n",
    "PT = {}\n",
    "PT[\"Unit\"] = 1.0\n",
    "PT[\"Mux\"] = 1.0"
   ]
  },
  {
   "cell_type": "markdown",
   "metadata": {},
   "source": [
    "## Half Adder"
   ]
  },
  {
   "cell_type": "markdown",
   "metadata": {},
   "source": [
    "## Full Adder"
   ]
  },
  {
   "cell_type": "code",
   "execution_count": 25,
   "metadata": {},
   "outputs": [
    {
     "data": {
      "image/png": "[encoded data removed]",
      "text/plain": [
       "<IPython.core.display.Image object>"
      ]
     },
     "execution_count": 25,
     "metadata": {},
     "output_type": "execute_result"
    }
   ],
   "source": [
    "Image(filename='images/FA.png')"
   ]
  },
  {
   "cell_type": "code",
   "execution_count": 17,
   "metadata": {},
   "outputs": [],
   "source": [
    "FA_SC1 = {}\n",
    "FA_SC1[\"sum\"] = 2* Xor_delay\n",
    "FA_SC1[\"carry\"] = And_delay + Or_delay\n",
    "FA_SC1[\"GateCount\"]  = 2 * Xor[\"GateCount\"] + "
   ]
  },
  {
   "cell_type": "raw",
   "metadata": {},
   "source": [
    "FA_PT = {}\n",
    "FA_PT[\"sum\"] = 2 * PT[\"Unit\"]\n",
    "FA_PT[\"carry\"] = PT[\"Unit\"]"
   ]
  },
  {
   "cell_type": "markdown",
   "metadata": {},
   "source": [
    "# Ripple Carry Adder"
   ]
  },
  {
   "cell_type": "code",
   "execution_count": 26,
   "metadata": {},
   "outputs": [
    {
     "data": {
      "image/png": "[encoded data removed]",
      "text/plain": [
       "<IPython.core.display.Image object>"
      ]
     },
     "execution_count": 26,
     "metadata": {},
     "output_type": "execute_result"
    }
   ],
   "source": [
    "Image(filename='images/RCA1.png')"
   ]
  },
  {
   "cell_type": "code",
   "execution_count": 32,
   "metadata": {},
   "outputs": [],
   "source": [
    "### Assume bit_width = nibble\n",
    "bit_width = nibble\n",
    "RCA_SC = {}\n",
    "RCA_SC[\"sum\"] = FA_SC1[\"sum\"]\n",
    "RCA_SC[\"carry\"] = bit_width * FA_SC1[\"carry\"]\n",
    "def RCA_SC_crit (bit_width) :\n",
    "    return bit_width*FA_SC1[\"carry\"]\n",
    "RCA_SC[\"critical\"] = \"Carry\"\n",
    "#RCA_SC[\"GC\"] = "
   ]
  },
  {
   "cell_type": "markdown",
   "metadata": {},
   "source": [
    "# Carry Skip Adder"
   ]
  },
  {
   "cell_type": "code",
   "execution_count": 28,
   "metadata": {},
   "outputs": [
    {
     "data": {
      "image/png": "[encoded data removed]",
      "text/plain": [
       "<IPython.core.display.Image object>"
      ]
     },
     "execution_count": 28,
     "metadata": {},
     "output_type": "execute_result"
    }
   ],
   "source": [
    "Image(filename='images/CSKA.png')"
   ]
  },
  {
   "cell_type": "code",
   "execution_count": 30,
   "metadata": {
    "collapsed": true
   },
   "outputs": [],
   "source": [
    "# Constants\n",
    "Kbits = 1 * nibble\n",
    "Tbits = 1 * word\n"
   ]
  },
  {
   "cell_type": "code",
   "execution_count": null,
   "metadata": {
    "collapsed": true
   },
   "outputs": [],
   "source": []
  }
 ],
 "metadata": {
  "anaconda-cloud": {},
  "kernelspec": {
   "display_name": "Python [conda root]",
   "language": "python",
   "name": "conda-root-py"
  },
  "language_info": {
   "codemirror_mode": {
    "name": "ipython",
    "version": 2
   },
   "file_extension": ".py",
   "mimetype": "text/x-python",
   "name": "python",
   "nbconvert_exporter": "python",
   "pygments_lexer": "ipython2",
   "version": "2.7.13"
  }
 },
 "nbformat": 4,
 "nbformat_minor": 1
}
