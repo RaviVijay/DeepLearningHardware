{
 "cells": [
  {
   "cell_type": "markdown",
   "metadata": {},
   "source": [
    "# Import"
   ]
  },
  {
   "cell_type": "markdown",
   "metadata": {},
   "source": [
    "Example of journalling along with the codebase."
   ]
  },
  {
   "cell_type": "code",
   "execution_count": 1,
   "metadata": {
    "collapsed": true
   },
   "outputs": [],
   "source": [
    "import numpy as np\n",
    "import pandas as pd\n",
    "import pint"
   ]
  },
  {
   "cell_type": "code",
   "execution_count": 10,
   "metadata": {
    "collapsed": true
   },
   "outputs": [],
   "source": [
    "from pint import UnitRegistry\n",
    "# First we create the registry.\n",
    "ureg = UnitRegistry()\n",
    "#time = UnitRegistry()\n",
    "\n",
    "# Then we append the new definitions\n",
    "ureg.load_definitions('/Users/rv939730/Learn/DeepLearningHardware/DL_Papers_Summaries/myunits.txt') \n"
   ]
  },
  {
   "cell_type": "code",
   "execution_count": 20,
   "metadata": {},
   "outputs": [
    {
     "name": "stdout",
     "output_type": "stream",
     "text": [
      "80.0 bit\n"
     ]
    }
   ],
   "source": [
    "Q_ = ureg.Quantity\n",
    "\n",
    "define_in_bites = Q_(10, 'byte')\n",
    "\n",
    "print(define_in_bites.to('bit'))\n"
   ]
  },
  {
   "cell_type": "markdown",
   "metadata": {},
   "source": [
    "Q_ = ureg.Quantity\n",
    "\n",
    "lassie_lifespan = Q_(10, 'bytes')\n",
    "\n",
    "print(lassie_lifespan.to('bytes'))\n",
    "\n",
    "def mypp_caveman(length):\n",
    "\n",
    "    return pendulum_period(length.to(ureg.meter).magnitude) * ureg.second\n",
    "https://pint.readthedocs.io/en/latest/wrapping.html\n"
   ]
  },
  {
   "cell_type": "markdown",
   "metadata": {},
   "source": [
    "# Exploration"
   ]
  },
  {
   "cell_type": "code",
   "execution_count": null,
   "metadata": {
    "collapsed": true
   },
   "outputs": [],
   "source": []
  }
 ],
 "metadata": {
  "anaconda-cloud": {},
  "kernelspec": {
   "display_name": "Python [conda root]",
   "language": "python",
   "name": "conda-root-py"
  },
  "language_info": {
   "codemirror_mode": {
    "name": "ipython",
    "version": 2
   },
   "file_extension": ".py",
   "mimetype": "text/x-python",
   "name": "python",
   "nbconvert_exporter": "python",
   "pygments_lexer": "ipython2",
   "version": "2.7.13"
  }
 },
 "nbformat": 4,
 "nbformat_minor": 2
}
